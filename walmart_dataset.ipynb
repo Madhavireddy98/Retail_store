{
 "cells": [
  {
   "cell_type": "code",
   "execution_count": 1,
   "id": "a74431fa",
   "metadata": {},
   "outputs": [],
   "source": [
    "import pandas as pd\n",
    "import numpy as np\n",
    "import matplotlib.pyplot as plt\n",
    "import seaborn as sns"
   ]
  },
  {
   "cell_type": "code",
   "execution_count": 2,
   "id": "bef87487",
   "metadata": {},
   "outputs": [],
   "source": [
    "Walmart_data=pd.read_csv('D:/simplilearn projects/Walmart_Store_sales.csv')"
   ]
  },
  {
   "cell_type": "code",
   "execution_count": 3,
   "id": "25752c99",
   "metadata": {
    "scrolled": true
   },
   "outputs": [
    {
     "data": {
      "text/html": [
       "<div>\n",
       "<style scoped>\n",
       "    .dataframe tbody tr th:only-of-type {\n",
       "        vertical-align: middle;\n",
       "    }\n",
       "\n",
       "    .dataframe tbody tr th {\n",
       "        vertical-align: top;\n",
       "    }\n",
       "\n",
       "    .dataframe thead th {\n",
       "        text-align: right;\n",
       "    }\n",
       "</style>\n",
       "<table border=\"1\" class=\"dataframe\">\n",
       "  <thead>\n",
       "    <tr style=\"text-align: right;\">\n",
       "      <th></th>\n",
       "      <th>Store</th>\n",
       "      <th>Date</th>\n",
       "      <th>Weekly_Sales</th>\n",
       "      <th>Holiday_Flag</th>\n",
       "      <th>Temperature</th>\n",
       "      <th>Fuel_Price</th>\n",
       "      <th>CPI</th>\n",
       "      <th>Unemployment</th>\n",
       "    </tr>\n",
       "  </thead>\n",
       "  <tbody>\n",
       "    <tr>\n",
       "      <th>0</th>\n",
       "      <td>1</td>\n",
       "      <td>05-02-2010</td>\n",
       "      <td>1643690.90</td>\n",
       "      <td>0</td>\n",
       "      <td>42.31</td>\n",
       "      <td>2.572</td>\n",
       "      <td>211.096358</td>\n",
       "      <td>8.106</td>\n",
       "    </tr>\n",
       "    <tr>\n",
       "      <th>1</th>\n",
       "      <td>1</td>\n",
       "      <td>12-02-2010</td>\n",
       "      <td>1641957.44</td>\n",
       "      <td>1</td>\n",
       "      <td>38.51</td>\n",
       "      <td>2.548</td>\n",
       "      <td>211.242170</td>\n",
       "      <td>8.106</td>\n",
       "    </tr>\n",
       "    <tr>\n",
       "      <th>2</th>\n",
       "      <td>1</td>\n",
       "      <td>19-02-2010</td>\n",
       "      <td>1611968.17</td>\n",
       "      <td>0</td>\n",
       "      <td>39.93</td>\n",
       "      <td>2.514</td>\n",
       "      <td>211.289143</td>\n",
       "      <td>8.106</td>\n",
       "    </tr>\n",
       "    <tr>\n",
       "      <th>3</th>\n",
       "      <td>1</td>\n",
       "      <td>26-02-2010</td>\n",
       "      <td>1409727.59</td>\n",
       "      <td>0</td>\n",
       "      <td>46.63</td>\n",
       "      <td>2.561</td>\n",
       "      <td>211.319643</td>\n",
       "      <td>8.106</td>\n",
       "    </tr>\n",
       "    <tr>\n",
       "      <th>4</th>\n",
       "      <td>1</td>\n",
       "      <td>05-03-2010</td>\n",
       "      <td>1554806.68</td>\n",
       "      <td>0</td>\n",
       "      <td>46.50</td>\n",
       "      <td>2.625</td>\n",
       "      <td>211.350143</td>\n",
       "      <td>8.106</td>\n",
       "    </tr>\n",
       "    <tr>\n",
       "      <th>...</th>\n",
       "      <td>...</td>\n",
       "      <td>...</td>\n",
       "      <td>...</td>\n",
       "      <td>...</td>\n",
       "      <td>...</td>\n",
       "      <td>...</td>\n",
       "      <td>...</td>\n",
       "      <td>...</td>\n",
       "    </tr>\n",
       "    <tr>\n",
       "      <th>6430</th>\n",
       "      <td>45</td>\n",
       "      <td>28-09-2012</td>\n",
       "      <td>713173.95</td>\n",
       "      <td>0</td>\n",
       "      <td>64.88</td>\n",
       "      <td>3.997</td>\n",
       "      <td>192.013558</td>\n",
       "      <td>8.684</td>\n",
       "    </tr>\n",
       "    <tr>\n",
       "      <th>6431</th>\n",
       "      <td>45</td>\n",
       "      <td>05-10-2012</td>\n",
       "      <td>733455.07</td>\n",
       "      <td>0</td>\n",
       "      <td>64.89</td>\n",
       "      <td>3.985</td>\n",
       "      <td>192.170412</td>\n",
       "      <td>8.667</td>\n",
       "    </tr>\n",
       "    <tr>\n",
       "      <th>6432</th>\n",
       "      <td>45</td>\n",
       "      <td>12-10-2012</td>\n",
       "      <td>734464.36</td>\n",
       "      <td>0</td>\n",
       "      <td>54.47</td>\n",
       "      <td>4.000</td>\n",
       "      <td>192.327265</td>\n",
       "      <td>8.667</td>\n",
       "    </tr>\n",
       "    <tr>\n",
       "      <th>6433</th>\n",
       "      <td>45</td>\n",
       "      <td>19-10-2012</td>\n",
       "      <td>718125.53</td>\n",
       "      <td>0</td>\n",
       "      <td>56.47</td>\n",
       "      <td>3.969</td>\n",
       "      <td>192.330854</td>\n",
       "      <td>8.667</td>\n",
       "    </tr>\n",
       "    <tr>\n",
       "      <th>6434</th>\n",
       "      <td>45</td>\n",
       "      <td>26-10-2012</td>\n",
       "      <td>760281.43</td>\n",
       "      <td>0</td>\n",
       "      <td>58.85</td>\n",
       "      <td>3.882</td>\n",
       "      <td>192.308899</td>\n",
       "      <td>8.667</td>\n",
       "    </tr>\n",
       "  </tbody>\n",
       "</table>\n",
       "<p>6435 rows × 8 columns</p>\n",
       "</div>"
      ],
      "text/plain": [
       "      Store        Date  Weekly_Sales  Holiday_Flag  Temperature  Fuel_Price  \\\n",
       "0         1  05-02-2010    1643690.90             0        42.31       2.572   \n",
       "1         1  12-02-2010    1641957.44             1        38.51       2.548   \n",
       "2         1  19-02-2010    1611968.17             0        39.93       2.514   \n",
       "3         1  26-02-2010    1409727.59             0        46.63       2.561   \n",
       "4         1  05-03-2010    1554806.68             0        46.50       2.625   \n",
       "...     ...         ...           ...           ...          ...         ...   \n",
       "6430     45  28-09-2012     713173.95             0        64.88       3.997   \n",
       "6431     45  05-10-2012     733455.07             0        64.89       3.985   \n",
       "6432     45  12-10-2012     734464.36             0        54.47       4.000   \n",
       "6433     45  19-10-2012     718125.53             0        56.47       3.969   \n",
       "6434     45  26-10-2012     760281.43             0        58.85       3.882   \n",
       "\n",
       "             CPI  Unemployment  \n",
       "0     211.096358         8.106  \n",
       "1     211.242170         8.106  \n",
       "2     211.289143         8.106  \n",
       "3     211.319643         8.106  \n",
       "4     211.350143         8.106  \n",
       "...          ...           ...  \n",
       "6430  192.013558         8.684  \n",
       "6431  192.170412         8.667  \n",
       "6432  192.327265         8.667  \n",
       "6433  192.330854         8.667  \n",
       "6434  192.308899         8.667  \n",
       "\n",
       "[6435 rows x 8 columns]"
      ]
     },
     "execution_count": 3,
     "metadata": {},
     "output_type": "execute_result"
    }
   ],
   "source": [
    "Walmart_data\n"
   ]
  },
  {
   "cell_type": "code",
   "execution_count": 4,
   "id": "28f45864",
   "metadata": {},
   "outputs": [
    {
     "name": "stdout",
     "output_type": "stream",
     "text": [
      "<class 'pandas.core.frame.DataFrame'>\n",
      "RangeIndex: 6435 entries, 0 to 6434\n",
      "Data columns (total 8 columns):\n",
      " #   Column        Non-Null Count  Dtype  \n",
      "---  ------        --------------  -----  \n",
      " 0   Store         6435 non-null   int64  \n",
      " 1   Date          6435 non-null   object \n",
      " 2   Weekly_Sales  6435 non-null   float64\n",
      " 3   Holiday_Flag  6435 non-null   int64  \n",
      " 4   Temperature   6435 non-null   float64\n",
      " 5   Fuel_Price    6435 non-null   float64\n",
      " 6   CPI           6435 non-null   float64\n",
      " 7   Unemployment  6435 non-null   float64\n",
      "dtypes: float64(5), int64(2), object(1)\n",
      "memory usage: 402.3+ KB\n"
     ]
    }
   ],
   "source": [
    "Walmart_data.info()"
   ]
  },
  {
   "cell_type": "code",
   "execution_count": 5,
   "id": "26a9d44d",
   "metadata": {},
   "outputs": [
    {
     "data": {
      "text/plain": [
       "<bound method NDFrame._add_numeric_operations.<locals>.sum of       Store   Date  Weekly_Sales  Holiday_Flag  Temperature  Fuel_Price  \\\n",
       "0     False  False         False         False        False       False   \n",
       "1     False  False         False         False        False       False   \n",
       "2     False  False         False         False        False       False   \n",
       "3     False  False         False         False        False       False   \n",
       "4     False  False         False         False        False       False   \n",
       "...     ...    ...           ...           ...          ...         ...   \n",
       "6430  False  False         False         False        False       False   \n",
       "6431  False  False         False         False        False       False   \n",
       "6432  False  False         False         False        False       False   \n",
       "6433  False  False         False         False        False       False   \n",
       "6434  False  False         False         False        False       False   \n",
       "\n",
       "        CPI  Unemployment  \n",
       "0     False         False  \n",
       "1     False         False  \n",
       "2     False         False  \n",
       "3     False         False  \n",
       "4     False         False  \n",
       "...     ...           ...  \n",
       "6430  False         False  \n",
       "6431  False         False  \n",
       "6432  False         False  \n",
       "6433  False         False  \n",
       "6434  False         False  \n",
       "\n",
       "[6435 rows x 8 columns]>"
      ]
     },
     "execution_count": 5,
     "metadata": {},
     "output_type": "execute_result"
    }
   ],
   "source": [
    "#checking for missing values\n",
    "Walmart_data.isna().sum"
   ]
  },
  {
   "cell_type": "code",
   "execution_count": 6,
   "id": "d30474d2",
   "metadata": {},
   "outputs": [
    {
     "data": {
      "image/png": "[encoded data removed]",
      "text/plain": [
       "<Figure size 432x288 with 1 Axes>"
      ]
     },
     "metadata": {
      "needs_background": "light"
     },
     "output_type": "display_data"
    },
    {
     "data": {
      "image/png": "[encoded data removed]",
      "text/plain": [
       "<Figure size 432x288 with 1 Axes>"
      ]
     },
     "metadata": {
      "needs_background": "light"
     },
     "output_type": "display_data"
    },
    {
     "data": {
      "image/png": "[encoded data removed]",
      "text/plain": [
       "<Figure size 432x288 with 1 Axes>"
      ]
     },
     "metadata": {
      "needs_background": "light"
     },
     "output_type": "display_data"
    },
    {
     "data": {
      "image/png": "[encoded data removed]",
      "text/plain": [
       "<Figure size 432x288 with 1 Axes>"
      ]
     },
     "metadata": {
      "needs_background": "light"
     },
     "output_type": "display_data"
    },
    {
     "data": {
      "image/png": "[encoded data removed]",
      "text/plain": [
       "<Figure size 432x288 with 1 Axes>"
      ]
     },
     "metadata": {
      "needs_background": "light"
     },
     "output_type": "display_data"
    },
    {
     "data": {
      "image/png": "[encoded data removed]",
      "text/plain": [
       "<Figure size 432x288 with 1 Axes>"
      ]
     },
     "metadata": {
      "needs_background": "light"
     },
     "output_type": "display_data"
    },
    {
     "data": {
      "image/png": "[encoded data removed]",
      "text/plain": [
       "<Figure size 432x288 with 1 Axes>"
      ]
     },
     "metadata": {
      "needs_background": "light"
     },
     "output_type": "display_data"
    },
    {
     "data": {
      "image/png": "[encoded data removed]",
      "text/plain": [
       "<Figure size 432x288 with 1 Axes>"
      ]
     },
     "metadata": {
      "needs_background": "light"
     },
     "output_type": "display_data"
    }
   ],
   "source": [
    "#EDA exploratory data analysis\n",
    "#histogram\n",
    "for column in Walmart_data.columns:\n",
    "    plt.hist(Walmart_data[column] ,bins= 15)\n",
    "    plt.title(f\"Distribution of {column}\")\n",
    "    plt.xlabel(column)\n",
    "    plt.ylabel(\"Weekly_Sales\")\n",
    "    plt.show()"
   ]
  },
  {
   "cell_type": "markdown",
   "id": "a3ea55d7",
   "metadata": {},
   "source": [
    "the histogram of dataset shows taht the variables are skewed and had outliers in it\n"
   ]
  },
  {
   "cell_type": "code",
   "execution_count": 7,
   "id": "4bc1d3fa",
   "metadata": {},
   "outputs": [
    {
     "data": {
      "image/png": "[encoded data removed]",
      "text/plain": [
       "<Figure size 864x576 with 1 Axes>"
      ]
     },
     "metadata": {
      "needs_background": "light"
     },
     "output_type": "display_data"
    },
    {
     "data": {
      "image/png": "[encoded data removed]",
      "text/plain": [
       "<Figure size 432x288 with 1 Axes>"
      ]
     },
     "metadata": {
      "needs_background": "light"
     },
     "output_type": "display_data"
    },
    {
     "data": {
      "image/png": "[encoded data removed]",
      "text/plain": [
       "<Figure size 432x288 with 1 Axes>"
      ]
     },
     "metadata": {
      "needs_background": "light"
     },
     "output_type": "display_data"
    },
    {
     "data": {
      "image/png": "[encoded data removed]",
      "text/plain": [
       "<Figure size 432x288 with 1 Axes>"
      ]
     },
     "metadata": {
      "needs_background": "light"
     },
     "output_type": "display_data"
    },
    {
     "data": {
      "image/png": "[encoded data removed]",
      "text/plain": [
       "<Figure size 432x288 with 1 Axes>"
      ]
     },
     "metadata": {
      "needs_background": "light"
     },
     "output_type": "display_data"
    },
    {
     "data": {
      "image/png": "[encoded data removed]",
      "text/plain": [
       "<Figure size 432x288 with 1 Axes>"
      ]
     },
     "metadata": {
      "needs_background": "light"
     },
     "output_type": "display_data"
    }
   ],
   "source": [
    "#boxplot of all the numerical columns in the dataset\n",
    "numerical_columns=Walmart_data.select_dtypes(include=['int64', 'float64'])\n",
    "plt.figure(figsize=(12,8))\n",
    "for i,column in enumerate(numerical_columns.columns):\n",
    "    if i < 6:\n",
    "        plt.subplot(2, 3, i + 1)\n",
    "        plt.boxplot(numerical_columns[column])\n",
    "        plt.title(column)\n",
    "        plt.tight_layout()\n",
    "        plt.show()"
   ]
  },
  {
   "cell_type": "code",
   "execution_count": 8,
   "id": "78f39a76",
   "metadata": {},
   "outputs": [
    {
     "name": "stdout",
     "output_type": "stream",
     "text": [
      "The store with max sales 14 with its maxium weekly sales 3818686.45\n"
     ]
    }
   ],
   "source": [
    "#Task1\n",
    "#Which store has maximum sales\n",
    "max_sales=Walmart_data.loc[Walmart_data['Weekly_Sales'].idxmax()]\n",
    "max_sales_store=max_sales['Store']\n",
    "max_weekly_sales=max_sales['Weekly_Sales']\n",
    "\n",
    "print(f\"The store with max sales {max_sales_store} with its maxium weekly sales {max_weekly_sales}\")"
   ]
  },
  {
   "cell_type": "markdown",
   "id": "3eec39a1",
   "metadata": {},
   "source": [
    "#task2\n",
    "Which store has maximum standard deviation i.e., the sales vary a lot. Also, find out the coefficient of mean to standard deviation"
   ]
  },
  {
   "cell_type": "code",
   "execution_count": 9,
   "id": "ba225d84",
   "metadata": {},
   "outputs": [
    {
     "name": "stdout",
     "output_type": "stream",
     "text": [
      "store with maximum standard deviation 14 with maximum standard deviation of sales is 317569.95\n"
     ]
    }
   ],
   "source": [
    "#Standard deviation of weekly sales from each store\n",
    "std_store=Walmart_data.groupby('Store')['Weekly_Sales'].std()\n",
    "#Maximum standard deviation \n",
    "store_with_max_std=std_store.idxmax()\n",
    "max_std=std_store.max()\n",
    "print(f\"store with maximum standard deviation {store_with_max_std} with maximum standard deviation of sales is {max_std:.2f}\")\n"
   ]
  },
  {
   "cell_type": "markdown",
   "id": "ddb9d69c",
   "metadata": {},
   "source": [
    "#coefficient of mean to standard deviation\n",
    "coefficient of mean to standard deviation = (mean/standard deviation)*100"
   ]
  },
  {
   "cell_type": "code",
   "execution_count": 10,
   "id": "d846c15a",
   "metadata": {},
   "outputs": [
    {
     "name": "stdout",
     "output_type": "stream",
     "text": [
      "636.39\n"
     ]
    }
   ],
   "source": [
    "mean_std= Walmart_data[Walmart_data['Store']==store_with_max_std]['Weekly_Sales'].mean()\n",
    "coeffiecient_of_variation=( mean_std/max_std)*100\n",
    "print(f\"{coeffiecient_of_variation:.2f}\")"
   ]
  },
  {
   "cell_type": "code",
   "execution_count": 11,
   "id": "8a8c6246",
   "metadata": {},
   "outputs": [
    {
     "data": {
      "text/plain": [
       "array(['05-02-2010', '12-02-2010', '19-02-2010', '26-02-2010',\n",
       "       '05-03-2010', '12-03-2010', '19-03-2010', '26-03-2010',\n",
       "       '02-04-2010', '09-04-2010', '16-04-2010', '23-04-2010',\n",
       "       '30-04-2010', '07-05-2010', '14-05-2010', '21-05-2010',\n",
       "       '28-05-2010', '04-06-2010', '11-06-2010', '18-06-2010',\n",
       "       '25-06-2010', '02-07-2010', '09-07-2010', '16-07-2010',\n",
       "       '23-07-2010', '30-07-2010', '06-08-2010', '13-08-2010',\n",
       "       '20-08-2010', '27-08-2010', '03-09-2010', '10-09-2010',\n",
       "       '17-09-2010', '24-09-2010', '01-10-2010', '08-10-2010',\n",
       "       '15-10-2010', '22-10-2010', '29-10-2010', '05-11-2010',\n",
       "       '12-11-2010', '19-11-2010', '26-11-2010', '03-12-2010',\n",
       "       '10-12-2010', '17-12-2010', '24-12-2010', '31-12-2010',\n",
       "       '07-01-2011', '14-01-2011', '21-01-2011', '28-01-2011',\n",
       "       '04-02-2011', '11-02-2011', '18-02-2011', '25-02-2011',\n",
       "       '04-03-2011', '11-03-2011', '18-03-2011', '25-03-2011',\n",
       "       '01-04-2011', '08-04-2011', '15-04-2011', '22-04-2011',\n",
       "       '29-04-2011', '06-05-2011', '13-05-2011', '20-05-2011',\n",
       "       '27-05-2011', '03-06-2011', '10-06-2011', '17-06-2011',\n",
       "       '24-06-2011', '01-07-2011', '08-07-2011', '15-07-2011',\n",
       "       '22-07-2011', '29-07-2011', '05-08-2011', '12-08-2011',\n",
       "       '19-08-2011', '26-08-2011', '02-09-2011', '09-09-2011',\n",
       "       '16-09-2011', '23-09-2011', '30-09-2011', '07-10-2011',\n",
       "       '14-10-2011', '21-10-2011', '28-10-2011', '04-11-2011',\n",
       "       '11-11-2011', '18-11-2011', '25-11-2011', '02-12-2011',\n",
       "       '09-12-2011', '16-12-2011', '23-12-2011', '30-12-2011',\n",
       "       '06-01-2012', '13-01-2012', '20-01-2012', '27-01-2012',\n",
       "       '03-02-2012', '10-02-2012', '17-02-2012', '24-02-2012',\n",
       "       '02-03-2012', '09-03-2012', '16-03-2012', '23-03-2012',\n",
       "       '30-03-2012', '06-04-2012', '13-04-2012', '20-04-2012',\n",
       "       '27-04-2012', '04-05-2012', '11-05-2012', '18-05-2012',\n",
       "       '25-05-2012', '01-06-2012', '08-06-2012', '15-06-2012',\n",
       "       '22-06-2012', '29-06-2012', '06-07-2012', '13-07-2012',\n",
       "       '20-07-2012', '27-07-2012', '03-08-2012', '10-08-2012',\n",
       "       '17-08-2012', '24-08-2012', '31-08-2012', '07-09-2012',\n",
       "       '14-09-2012', '21-09-2012', '28-09-2012', '05-10-2012',\n",
       "       '12-10-2012', '19-10-2012', '26-10-2012'], dtype=object)"
      ]
     },
     "execution_count": 11,
     "metadata": {},
     "output_type": "execute_result"
    }
   ],
   "source": [
    "unique_dates=Walmart_data['Date'].unique()\n",
    "unique_dates\n"
   ]
  },
  {
   "cell_type": "code",
   "execution_count": 12,
   "id": "2205c5d3",
   "metadata": {},
   "outputs": [
    {
     "data": {
      "text/html": [
       "<div>\n",
       "<style scoped>\n",
       "    .dataframe tbody tr th:only-of-type {\n",
       "        vertical-align: middle;\n",
       "    }\n",
       "\n",
       "    .dataframe tbody tr th {\n",
       "        vertical-align: top;\n",
       "    }\n",
       "\n",
       "    .dataframe thead th {\n",
       "        text-align: right;\n",
       "    }\n",
       "</style>\n",
       "<table border=\"1\" class=\"dataframe\">\n",
       "  <thead>\n",
       "    <tr style=\"text-align: right;\">\n",
       "      <th></th>\n",
       "      <th>Store</th>\n",
       "      <th>Date</th>\n",
       "      <th>Weekly_Sales</th>\n",
       "      <th>Holiday_Flag</th>\n",
       "      <th>Temperature</th>\n",
       "      <th>Fuel_Price</th>\n",
       "      <th>CPI</th>\n",
       "      <th>Unemployment</th>\n",
       "    </tr>\n",
       "  </thead>\n",
       "  <tbody>\n",
       "    <tr>\n",
       "      <th>126</th>\n",
       "      <td>1</td>\n",
       "      <td>2012-07-06</td>\n",
       "      <td>1769854.16</td>\n",
       "      <td>0</td>\n",
       "      <td>81.57</td>\n",
       "      <td>3.227</td>\n",
       "      <td>221.883779</td>\n",
       "      <td>6.908</td>\n",
       "    </tr>\n",
       "    <tr>\n",
       "      <th>127</th>\n",
       "      <td>1</td>\n",
       "      <td>2012-07-13</td>\n",
       "      <td>1527014.04</td>\n",
       "      <td>0</td>\n",
       "      <td>77.12</td>\n",
       "      <td>3.256</td>\n",
       "      <td>221.924158</td>\n",
       "      <td>6.908</td>\n",
       "    </tr>\n",
       "    <tr>\n",
       "      <th>128</th>\n",
       "      <td>1</td>\n",
       "      <td>2012-07-20</td>\n",
       "      <td>1497954.76</td>\n",
       "      <td>0</td>\n",
       "      <td>80.42</td>\n",
       "      <td>3.311</td>\n",
       "      <td>221.932727</td>\n",
       "      <td>6.908</td>\n",
       "    </tr>\n",
       "    <tr>\n",
       "      <th>129</th>\n",
       "      <td>1</td>\n",
       "      <td>2012-07-27</td>\n",
       "      <td>1439123.71</td>\n",
       "      <td>0</td>\n",
       "      <td>82.66</td>\n",
       "      <td>3.407</td>\n",
       "      <td>221.941295</td>\n",
       "      <td>6.908</td>\n",
       "    </tr>\n",
       "    <tr>\n",
       "      <th>130</th>\n",
       "      <td>1</td>\n",
       "      <td>2012-08-03</td>\n",
       "      <td>1631135.79</td>\n",
       "      <td>0</td>\n",
       "      <td>86.11</td>\n",
       "      <td>3.417</td>\n",
       "      <td>221.949864</td>\n",
       "      <td>6.908</td>\n",
       "    </tr>\n",
       "    <tr>\n",
       "      <th>...</th>\n",
       "      <td>...</td>\n",
       "      <td>...</td>\n",
       "      <td>...</td>\n",
       "      <td>...</td>\n",
       "      <td>...</td>\n",
       "      <td>...</td>\n",
       "      <td>...</td>\n",
       "      <td>...</td>\n",
       "    </tr>\n",
       "    <tr>\n",
       "      <th>6426</th>\n",
       "      <td>45</td>\n",
       "      <td>2012-08-31</td>\n",
       "      <td>734297.87</td>\n",
       "      <td>0</td>\n",
       "      <td>75.09</td>\n",
       "      <td>3.867</td>\n",
       "      <td>191.461281</td>\n",
       "      <td>8.684</td>\n",
       "    </tr>\n",
       "    <tr>\n",
       "      <th>6427</th>\n",
       "      <td>45</td>\n",
       "      <td>2012-09-07</td>\n",
       "      <td>766512.66</td>\n",
       "      <td>1</td>\n",
       "      <td>75.70</td>\n",
       "      <td>3.911</td>\n",
       "      <td>191.577676</td>\n",
       "      <td>8.684</td>\n",
       "    </tr>\n",
       "    <tr>\n",
       "      <th>6428</th>\n",
       "      <td>45</td>\n",
       "      <td>2012-09-14</td>\n",
       "      <td>702238.27</td>\n",
       "      <td>0</td>\n",
       "      <td>67.87</td>\n",
       "      <td>3.948</td>\n",
       "      <td>191.699850</td>\n",
       "      <td>8.684</td>\n",
       "    </tr>\n",
       "    <tr>\n",
       "      <th>6429</th>\n",
       "      <td>45</td>\n",
       "      <td>2012-09-21</td>\n",
       "      <td>723086.20</td>\n",
       "      <td>0</td>\n",
       "      <td>65.32</td>\n",
       "      <td>4.038</td>\n",
       "      <td>191.856704</td>\n",
       "      <td>8.684</td>\n",
       "    </tr>\n",
       "    <tr>\n",
       "      <th>6430</th>\n",
       "      <td>45</td>\n",
       "      <td>2012-09-28</td>\n",
       "      <td>713173.95</td>\n",
       "      <td>0</td>\n",
       "      <td>64.88</td>\n",
       "      <td>3.997</td>\n",
       "      <td>192.013558</td>\n",
       "      <td>8.684</td>\n",
       "    </tr>\n",
       "  </tbody>\n",
       "</table>\n",
       "<p>585 rows × 8 columns</p>\n",
       "</div>"
      ],
      "text/plain": [
       "      Store       Date  Weekly_Sales  Holiday_Flag  Temperature  Fuel_Price  \\\n",
       "126       1 2012-07-06    1769854.16             0        81.57       3.227   \n",
       "127       1 2012-07-13    1527014.04             0        77.12       3.256   \n",
       "128       1 2012-07-20    1497954.76             0        80.42       3.311   \n",
       "129       1 2012-07-27    1439123.71             0        82.66       3.407   \n",
       "130       1 2012-08-03    1631135.79             0        86.11       3.417   \n",
       "...     ...        ...           ...           ...          ...         ...   \n",
       "6426     45 2012-08-31     734297.87             0        75.09       3.867   \n",
       "6427     45 2012-09-07     766512.66             1        75.70       3.911   \n",
       "6428     45 2012-09-14     702238.27             0        67.87       3.948   \n",
       "6429     45 2012-09-21     723086.20             0        65.32       4.038   \n",
       "6430     45 2012-09-28     713173.95             0        64.88       3.997   \n",
       "\n",
       "             CPI  Unemployment  \n",
       "126   221.883779         6.908  \n",
       "127   221.924158         6.908  \n",
       "128   221.932727         6.908  \n",
       "129   221.941295         6.908  \n",
       "130   221.949864         6.908  \n",
       "...          ...           ...  \n",
       "6426  191.461281         8.684  \n",
       "6427  191.577676         8.684  \n",
       "6428  191.699850         8.684  \n",
       "6429  191.856704         8.684  \n",
       "6430  192.013558         8.684  \n",
       "\n",
       "[585 rows x 8 columns]"
      ]
     },
     "execution_count": 12,
     "metadata": {},
     "output_type": "execute_result"
    }
   ],
   "source": [
    "#task 3#Which store/s has good quarterly growth rate in Q3’2012\n",
    "\n",
    "Walmart_data['Date']=pd.to_datetime(Walmart_data['Date'],format='%d-%m-%Y')\n",
    "Walmart_data['Date']\n",
    "# Filtering the quarter 3 data \n",
    "q3_data=Walmart_data[(Walmart_data['Date']>='2012-07-01')&(Walmart_data['Date']<='2012-09-30')]\n",
    "q3_data\n",
    "\n"
   ]
  },
  {
   "cell_type": "code",
   "execution_count": 13,
   "id": "71647da7",
   "metadata": {},
   "outputs": [
    {
     "data": {
      "text/html": [
       "<div>\n",
       "<style scoped>\n",
       "    .dataframe tbody tr th:only-of-type {\n",
       "        vertical-align: middle;\n",
       "    }\n",
       "\n",
       "    .dataframe tbody tr th {\n",
       "        vertical-align: top;\n",
       "    }\n",
       "\n",
       "    .dataframe thead th {\n",
       "        text-align: right;\n",
       "    }\n",
       "</style>\n",
       "<table border=\"1\" class=\"dataframe\">\n",
       "  <thead>\n",
       "    <tr style=\"text-align: right;\">\n",
       "      <th></th>\n",
       "      <th>Store</th>\n",
       "      <th>Date</th>\n",
       "      <th>Weekly_Sales</th>\n",
       "      <th>Holiday_Flag</th>\n",
       "      <th>Temperature</th>\n",
       "      <th>Fuel_Price</th>\n",
       "      <th>CPI</th>\n",
       "      <th>Unemployment</th>\n",
       "    </tr>\n",
       "  </thead>\n",
       "  <tbody>\n",
       "    <tr>\n",
       "      <th>113</th>\n",
       "      <td>1</td>\n",
       "      <td>2012-04-06</td>\n",
       "      <td>1899676.88</td>\n",
       "      <td>0</td>\n",
       "      <td>70.43</td>\n",
       "      <td>3.891</td>\n",
       "      <td>221.435611</td>\n",
       "      <td>7.143</td>\n",
       "    </tr>\n",
       "    <tr>\n",
       "      <th>114</th>\n",
       "      <td>1</td>\n",
       "      <td>2012-04-13</td>\n",
       "      <td>1621031.70</td>\n",
       "      <td>0</td>\n",
       "      <td>69.07</td>\n",
       "      <td>3.891</td>\n",
       "      <td>221.510210</td>\n",
       "      <td>7.143</td>\n",
       "    </tr>\n",
       "    <tr>\n",
       "      <th>115</th>\n",
       "      <td>1</td>\n",
       "      <td>2012-04-20</td>\n",
       "      <td>1521577.87</td>\n",
       "      <td>0</td>\n",
       "      <td>66.76</td>\n",
       "      <td>3.877</td>\n",
       "      <td>221.564074</td>\n",
       "      <td>7.143</td>\n",
       "    </tr>\n",
       "    <tr>\n",
       "      <th>116</th>\n",
       "      <td>1</td>\n",
       "      <td>2012-04-27</td>\n",
       "      <td>1468928.37</td>\n",
       "      <td>0</td>\n",
       "      <td>67.23</td>\n",
       "      <td>3.814</td>\n",
       "      <td>221.617937</td>\n",
       "      <td>7.143</td>\n",
       "    </tr>\n",
       "    <tr>\n",
       "      <th>117</th>\n",
       "      <td>1</td>\n",
       "      <td>2012-05-04</td>\n",
       "      <td>1684519.99</td>\n",
       "      <td>0</td>\n",
       "      <td>75.55</td>\n",
       "      <td>3.749</td>\n",
       "      <td>221.671800</td>\n",
       "      <td>7.143</td>\n",
       "    </tr>\n",
       "    <tr>\n",
       "      <th>...</th>\n",
       "      <td>...</td>\n",
       "      <td>...</td>\n",
       "      <td>...</td>\n",
       "      <td>...</td>\n",
       "      <td>...</td>\n",
       "      <td>...</td>\n",
       "      <td>...</td>\n",
       "      <td>...</td>\n",
       "    </tr>\n",
       "    <tr>\n",
       "      <th>6413</th>\n",
       "      <td>45</td>\n",
       "      <td>2012-06-01</td>\n",
       "      <td>837144.63</td>\n",
       "      <td>0</td>\n",
       "      <td>74.48</td>\n",
       "      <td>3.742</td>\n",
       "      <td>191.009171</td>\n",
       "      <td>8.567</td>\n",
       "    </tr>\n",
       "    <tr>\n",
       "      <th>6414</th>\n",
       "      <td>45</td>\n",
       "      <td>2012-06-08</td>\n",
       "      <td>795133.00</td>\n",
       "      <td>0</td>\n",
       "      <td>64.30</td>\n",
       "      <td>3.689</td>\n",
       "      <td>191.015533</td>\n",
       "      <td>8.567</td>\n",
       "    </tr>\n",
       "    <tr>\n",
       "      <th>6415</th>\n",
       "      <td>45</td>\n",
       "      <td>2012-06-15</td>\n",
       "      <td>821498.18</td>\n",
       "      <td>0</td>\n",
       "      <td>71.93</td>\n",
       "      <td>3.620</td>\n",
       "      <td>191.029973</td>\n",
       "      <td>8.567</td>\n",
       "    </tr>\n",
       "    <tr>\n",
       "      <th>6416</th>\n",
       "      <td>45</td>\n",
       "      <td>2012-06-22</td>\n",
       "      <td>822569.16</td>\n",
       "      <td>0</td>\n",
       "      <td>74.22</td>\n",
       "      <td>3.564</td>\n",
       "      <td>191.064610</td>\n",
       "      <td>8.567</td>\n",
       "    </tr>\n",
       "    <tr>\n",
       "      <th>6417</th>\n",
       "      <td>45</td>\n",
       "      <td>2012-06-29</td>\n",
       "      <td>773367.71</td>\n",
       "      <td>0</td>\n",
       "      <td>75.22</td>\n",
       "      <td>3.506</td>\n",
       "      <td>191.099246</td>\n",
       "      <td>8.567</td>\n",
       "    </tr>\n",
       "  </tbody>\n",
       "</table>\n",
       "<p>585 rows × 8 columns</p>\n",
       "</div>"
      ],
      "text/plain": [
       "      Store       Date  Weekly_Sales  Holiday_Flag  Temperature  Fuel_Price  \\\n",
       "113       1 2012-04-06    1899676.88             0        70.43       3.891   \n",
       "114       1 2012-04-13    1621031.70             0        69.07       3.891   \n",
       "115       1 2012-04-20    1521577.87             0        66.76       3.877   \n",
       "116       1 2012-04-27    1468928.37             0        67.23       3.814   \n",
       "117       1 2012-05-04    1684519.99             0        75.55       3.749   \n",
       "...     ...        ...           ...           ...          ...         ...   \n",
       "6413     45 2012-06-01     837144.63             0        74.48       3.742   \n",
       "6414     45 2012-06-08     795133.00             0        64.30       3.689   \n",
       "6415     45 2012-06-15     821498.18             0        71.93       3.620   \n",
       "6416     45 2012-06-22     822569.16             0        74.22       3.564   \n",
       "6417     45 2012-06-29     773367.71             0        75.22       3.506   \n",
       "\n",
       "             CPI  Unemployment  \n",
       "113   221.435611         7.143  \n",
       "114   221.510210         7.143  \n",
       "115   221.564074         7.143  \n",
       "116   221.617937         7.143  \n",
       "117   221.671800         7.143  \n",
       "...          ...           ...  \n",
       "6413  191.009171         8.567  \n",
       "6414  191.015533         8.567  \n",
       "6415  191.029973         8.567  \n",
       "6416  191.064610         8.567  \n",
       "6417  191.099246         8.567  \n",
       "\n",
       "[585 rows x 8 columns]"
      ]
     },
     "execution_count": 13,
     "metadata": {},
     "output_type": "execute_result"
    }
   ],
   "source": [
    "q2_data=Walmart_data[(Walmart_data['Date']>='2012-04-01')&(Walmart_data['Date']<='2012-06-30')]\n",
    "q2_data"
   ]
  },
  {
   "cell_type": "code",
   "execution_count": 14,
   "id": "68a7c7f9",
   "metadata": {},
   "outputs": [
    {
     "name": "stdout",
     "output_type": "stream",
     "text": [
      "the store with  quarterly growth rate q3 in 2012 with its sales growth are:\n",
      " Store\n",
      "7    13.330776\n",
      "Name: Weekly_Sales, dtype: float64 \n"
     ]
    }
   ],
   "source": [
    "q3_sales=q3_data.groupby('Store')['Weekly_Sales'].sum()\n",
    "q2_sales=q2_data.groupby('Store')['Weekly_Sales'].sum()\n",
    "quarterly_growth_rate=(q3_sales-q2_sales)/q2_sales*100\n",
    "quarterly_good_growth_rate=quarterly_growth_rate[quarterly_growth_rate==quarterly_growth_rate.max()]\n",
    "print(f\"the store with  quarterly growth rate q3 in 2012 with its sales growth are:\\n {quarterly_good_growth_rate} \")"
   ]
  },
  {
   "cell_type": "code",
   "execution_count": 15,
   "id": "b40ef217",
   "metadata": {},
   "outputs": [
    {
     "data": {
      "text/plain": [
       "['2010-02-12',\n",
       " '2011-02-11',\n",
       " '2012-02-10',\n",
       " '2010-09-10',\n",
       " '2011-09-09',\n",
       " '2012-09-07',\n",
       " '2010-11-26',\n",
       " '2011-11-25',\n",
       " '2010-12-31',\n",
       " '2011-12-30']"
      ]
     },
     "execution_count": 15,
     "metadata": {},
     "output_type": "execute_result"
    }
   ],
   "source": [
    "#task4\n",
    "#Find out holidays which have higher sales than the mean sales in non-holiday season for all stores together\n",
    "\n",
    "Holidays=['2010-02-12', '2011-02-11', '2012-02-10', '2013-02-08',\n",
    "            '2010-09-10', '2011-09-09', '2012-09-07', '2013-09-06',\n",
    "            '2010-11-26', '2011-11-25', '2012-11-23', '2013-11-29',\n",
    "            '2010-12-31', '2011-12-30', '2012-12-28', '2013-12-27']\n",
    "#1- holiday week, 0 -non holiday week\n",
    "# calculating the mean  sales valuesare of non-holidays\n",
    "non_holidays_sales=Walmart_data[Walmart_data['Holiday_Flag']==0]['Weekly_Sales'].mean()\n",
    "# calculating the  total sum of holidays\n",
    "holiday_sales=Walmart_data[Walmart_data['Date'].isin(Holidays)]['Weekly_Sales'].sum()\n",
    "# finding holidays with higher sales\n",
    "higher_sales=[str(date) for date in Holidays if Walmart_data [Walmart_data['Date']==date]['Weekly_Sales'].sum() >non_holidays_sales]\n",
    "higher_sales"
   ]
  },
  {
   "cell_type": "code",
   "execution_count": 16,
   "id": "b3c2c10d",
   "metadata": {},
   "outputs": [
    {
     "name": "stdout",
     "output_type": "stream",
     "text": [
      "monthly sales are \n",
      "Month\n",
      "1    332598438.49\n",
      "2    568727890.45\n",
      "3    592785901.28\n",
      "4    646859784.97\n",
      "5    557125571.95\n",
      "6    622629886.84\n",
      "7    650000977.25\n",
      "8    613090208.82\n",
      "9    578761179.26\n",
      "10   584784787.59\n",
      "11   413015725.01\n",
      "12   576838635.20\n",
      "Name: Weekly_Sales, dtype: float64\n",
      "semister wise sales are\n",
      "Semister\n",
      "1   3320727473.98\n",
      "2   3416491513.13\n",
      "Name: Weekly_Sales, dtype: float64\n"
     ]
    }
   ],
   "source": [
    "#task 5\n",
    "#Provide a monthly and semester view of sales \n",
    "Walmart_data['Month']=Walmart_data['Date'].dt.month\n",
    "Walmart_data['Semister']=(Walmart_data['Month']-1)//6 +1\n",
    "\n",
    "#monthly sales\n",
    "monthly_sales=Walmart_data.groupby('Month')['Weekly_Sales'].sum()\n",
    "#semister sales\n",
    "semister_sales=Walmart_data.groupby('Semister')['Weekly_Sales'].sum()\n",
    "\n",
    "pd.options.display.float_format = '{:.2f}'.format\n",
    "\n",
    "print(f\"monthly sales are \\n{monthly_sales}\")\n",
    "print(f\"semister wise sales are\\n{semister_sales}\")\n"
   ]
  },
  {
   "cell_type": "code",
   "execution_count": 17,
   "id": "f40d051a",
   "metadata": {},
   "outputs": [
    {
     "name": "stdout",
     "output_type": "stream",
     "text": [
      "           Date  days\n",
      "0    2010-02-05     0\n",
      "1    2010-02-12     7\n",
      "2    2010-02-19    14\n",
      "3    2010-02-26    21\n",
      "4    2010-03-05    28\n",
      "...         ...   ...\n",
      "6430 2012-09-28   966\n",
      "6431 2012-10-05   973\n",
      "6432 2012-10-12   980\n",
      "6433 2012-10-19   987\n",
      "6434 2012-10-26   994\n",
      "\n",
      "[6435 rows x 2 columns]\n"
     ]
    }
   ],
   "source": [
    "Walmart_data['days']=(Walmart_data['Date']-Walmart_data['Date'].min()).dt.days\n",
    "print(Walmart_data[['Date','days']])"
   ]
  },
  {
   "cell_type": "code",
   "execution_count": 18,
   "id": "26c04ed9",
   "metadata": {},
   "outputs": [
    {
     "data": {
      "text/html": [
       "<div>\n",
       "<style scoped>\n",
       "    .dataframe tbody tr th:only-of-type {\n",
       "        vertical-align: middle;\n",
       "    }\n",
       "\n",
       "    .dataframe tbody tr th {\n",
       "        vertical-align: top;\n",
       "    }\n",
       "\n",
       "    .dataframe thead th {\n",
       "        text-align: right;\n",
       "    }\n",
       "</style>\n",
       "<table border=\"1\" class=\"dataframe\">\n",
       "  <thead>\n",
       "    <tr style=\"text-align: right;\">\n",
       "      <th></th>\n",
       "      <th>Store</th>\n",
       "      <th>Date</th>\n",
       "      <th>Weekly_Sales</th>\n",
       "      <th>Holiday_Flag</th>\n",
       "      <th>Temperature</th>\n",
       "      <th>Fuel_Price</th>\n",
       "      <th>CPI</th>\n",
       "      <th>Unemployment</th>\n",
       "      <th>Month</th>\n",
       "      <th>Semister</th>\n",
       "      <th>days</th>\n",
       "    </tr>\n",
       "  </thead>\n",
       "  <tbody>\n",
       "    <tr>\n",
       "      <th>0</th>\n",
       "      <td>1</td>\n",
       "      <td>2010-02-05</td>\n",
       "      <td>1643690.90</td>\n",
       "      <td>0</td>\n",
       "      <td>42.31</td>\n",
       "      <td>2.57</td>\n",
       "      <td>211.10</td>\n",
       "      <td>8.11</td>\n",
       "      <td>2</td>\n",
       "      <td>1</td>\n",
       "      <td>0</td>\n",
       "    </tr>\n",
       "    <tr>\n",
       "      <th>1</th>\n",
       "      <td>1</td>\n",
       "      <td>2010-02-12</td>\n",
       "      <td>1641957.44</td>\n",
       "      <td>1</td>\n",
       "      <td>38.51</td>\n",
       "      <td>2.55</td>\n",
       "      <td>211.24</td>\n",
       "      <td>8.11</td>\n",
       "      <td>2</td>\n",
       "      <td>1</td>\n",
       "      <td>7</td>\n",
       "    </tr>\n",
       "    <tr>\n",
       "      <th>2</th>\n",
       "      <td>1</td>\n",
       "      <td>2010-02-19</td>\n",
       "      <td>1611968.17</td>\n",
       "      <td>0</td>\n",
       "      <td>39.93</td>\n",
       "      <td>2.51</td>\n",
       "      <td>211.29</td>\n",
       "      <td>8.11</td>\n",
       "      <td>2</td>\n",
       "      <td>1</td>\n",
       "      <td>14</td>\n",
       "    </tr>\n",
       "    <tr>\n",
       "      <th>3</th>\n",
       "      <td>1</td>\n",
       "      <td>2010-02-26</td>\n",
       "      <td>1409727.59</td>\n",
       "      <td>0</td>\n",
       "      <td>46.63</td>\n",
       "      <td>2.56</td>\n",
       "      <td>211.32</td>\n",
       "      <td>8.11</td>\n",
       "      <td>2</td>\n",
       "      <td>1</td>\n",
       "      <td>21</td>\n",
       "    </tr>\n",
       "    <tr>\n",
       "      <th>4</th>\n",
       "      <td>1</td>\n",
       "      <td>2010-03-05</td>\n",
       "      <td>1554806.68</td>\n",
       "      <td>0</td>\n",
       "      <td>46.50</td>\n",
       "      <td>2.62</td>\n",
       "      <td>211.35</td>\n",
       "      <td>8.11</td>\n",
       "      <td>3</td>\n",
       "      <td>1</td>\n",
       "      <td>28</td>\n",
       "    </tr>\n",
       "  </tbody>\n",
       "</table>\n",
       "</div>"
      ],
      "text/plain": [
       "   Store       Date  Weekly_Sales  Holiday_Flag  Temperature  Fuel_Price  \\\n",
       "0      1 2010-02-05    1643690.90             0        42.31        2.57   \n",
       "1      1 2010-02-12    1641957.44             1        38.51        2.55   \n",
       "2      1 2010-02-19    1611968.17             0        39.93        2.51   \n",
       "3      1 2010-02-26    1409727.59             0        46.63        2.56   \n",
       "4      1 2010-03-05    1554806.68             0        46.50        2.62   \n",
       "\n",
       "     CPI  Unemployment  Month  Semister  days  \n",
       "0 211.10          8.11      2         1     0  \n",
       "1 211.24          8.11      2         1     7  \n",
       "2 211.29          8.11      2         1    14  \n",
       "3 211.32          8.11      2         1    21  \n",
       "4 211.35          8.11      3         1    28  "
      ]
     },
     "execution_count": 18,
     "metadata": {},
     "output_type": "execute_result"
    }
   ],
   "source": [
    "Walmart_data.head()"
   ]
  },
  {
   "cell_type": "code",
   "execution_count": 19,
   "id": "1a8bc239",
   "metadata": {},
   "outputs": [
    {
     "name": "stdout",
     "output_type": "stream",
     "text": [
      "<class 'pandas.core.frame.DataFrame'>\n",
      "RangeIndex: 6435 entries, 0 to 6434\n",
      "Data columns (total 11 columns):\n",
      " #   Column        Non-Null Count  Dtype         \n",
      "---  ------        --------------  -----         \n",
      " 0   Store         6435 non-null   int64         \n",
      " 1   Date          6435 non-null   datetime64[ns]\n",
      " 2   Weekly_Sales  6435 non-null   float64       \n",
      " 3   Holiday_Flag  6435 non-null   int64         \n",
      " 4   Temperature   6435 non-null   float64       \n",
      " 5   Fuel_Price    6435 non-null   float64       \n",
      " 6   CPI           6435 non-null   float64       \n",
      " 7   Unemployment  6435 non-null   float64       \n",
      " 8   Month         6435 non-null   int64         \n",
      " 9   Semister      6435 non-null   int64         \n",
      " 10  days          6435 non-null   int64         \n",
      "dtypes: datetime64[ns](1), float64(5), int64(5)\n",
      "memory usage: 553.1 KB\n"
     ]
    }
   ],
   "source": [
    "Walmart_data.info()"
   ]
  },
  {
   "cell_type": "code",
   "execution_count": 21,
   "id": "5dc1d537",
   "metadata": {},
   "outputs": [
    {
     "data": {
      "text/html": [
       "<div>\n",
       "<style scoped>\n",
       "    .dataframe tbody tr th:only-of-type {\n",
       "        vertical-align: middle;\n",
       "    }\n",
       "\n",
       "    .dataframe tbody tr th {\n",
       "        vertical-align: top;\n",
       "    }\n",
       "\n",
       "    .dataframe thead th {\n",
       "        text-align: right;\n",
       "    }\n",
       "</style>\n",
       "<table border=\"1\" class=\"dataframe\">\n",
       "  <thead>\n",
       "    <tr style=\"text-align: right;\">\n",
       "      <th></th>\n",
       "      <th>Store</th>\n",
       "      <th>Date</th>\n",
       "      <th>Weekly_Sales</th>\n",
       "      <th>Holiday_Flag</th>\n",
       "      <th>Temperature</th>\n",
       "      <th>Fuel_Price</th>\n",
       "      <th>CPI</th>\n",
       "      <th>Unemployment</th>\n",
       "      <th>Month</th>\n",
       "      <th>Semister</th>\n",
       "      <th>days</th>\n",
       "    </tr>\n",
       "  </thead>\n",
       "  <tbody>\n",
       "    <tr>\n",
       "      <th>0</th>\n",
       "      <td>1</td>\n",
       "      <td>2010-02-05</td>\n",
       "      <td>1643690.90</td>\n",
       "      <td>0</td>\n",
       "      <td>42.31</td>\n",
       "      <td>2.57</td>\n",
       "      <td>211.10</td>\n",
       "      <td>8.11</td>\n",
       "      <td>2</td>\n",
       "      <td>1</td>\n",
       "      <td>0</td>\n",
       "    </tr>\n",
       "    <tr>\n",
       "      <th>1</th>\n",
       "      <td>1</td>\n",
       "      <td>2010-02-12</td>\n",
       "      <td>1641957.44</td>\n",
       "      <td>1</td>\n",
       "      <td>38.51</td>\n",
       "      <td>2.55</td>\n",
       "      <td>211.24</td>\n",
       "      <td>8.11</td>\n",
       "      <td>2</td>\n",
       "      <td>1</td>\n",
       "      <td>7</td>\n",
       "    </tr>\n",
       "    <tr>\n",
       "      <th>2</th>\n",
       "      <td>1</td>\n",
       "      <td>2010-02-19</td>\n",
       "      <td>1611968.17</td>\n",
       "      <td>0</td>\n",
       "      <td>39.93</td>\n",
       "      <td>2.51</td>\n",
       "      <td>211.29</td>\n",
       "      <td>8.11</td>\n",
       "      <td>2</td>\n",
       "      <td>1</td>\n",
       "      <td>14</td>\n",
       "    </tr>\n",
       "    <tr>\n",
       "      <th>3</th>\n",
       "      <td>1</td>\n",
       "      <td>2010-02-26</td>\n",
       "      <td>1409727.59</td>\n",
       "      <td>0</td>\n",
       "      <td>46.63</td>\n",
       "      <td>2.56</td>\n",
       "      <td>211.32</td>\n",
       "      <td>8.11</td>\n",
       "      <td>2</td>\n",
       "      <td>1</td>\n",
       "      <td>21</td>\n",
       "    </tr>\n",
       "    <tr>\n",
       "      <th>4</th>\n",
       "      <td>1</td>\n",
       "      <td>2010-03-05</td>\n",
       "      <td>1554806.68</td>\n",
       "      <td>0</td>\n",
       "      <td>46.50</td>\n",
       "      <td>2.62</td>\n",
       "      <td>211.35</td>\n",
       "      <td>8.11</td>\n",
       "      <td>3</td>\n",
       "      <td>1</td>\n",
       "      <td>28</td>\n",
       "    </tr>\n",
       "    <tr>\n",
       "      <th>...</th>\n",
       "      <td>...</td>\n",
       "      <td>...</td>\n",
       "      <td>...</td>\n",
       "      <td>...</td>\n",
       "      <td>...</td>\n",
       "      <td>...</td>\n",
       "      <td>...</td>\n",
       "      <td>...</td>\n",
       "      <td>...</td>\n",
       "      <td>...</td>\n",
       "      <td>...</td>\n",
       "    </tr>\n",
       "    <tr>\n",
       "      <th>138</th>\n",
       "      <td>1</td>\n",
       "      <td>2012-09-28</td>\n",
       "      <td>1437059.26</td>\n",
       "      <td>0</td>\n",
       "      <td>76.08</td>\n",
       "      <td>3.67</td>\n",
       "      <td>222.98</td>\n",
       "      <td>6.91</td>\n",
       "      <td>9</td>\n",
       "      <td>2</td>\n",
       "      <td>966</td>\n",
       "    </tr>\n",
       "    <tr>\n",
       "      <th>139</th>\n",
       "      <td>1</td>\n",
       "      <td>2012-10-05</td>\n",
       "      <td>1670785.97</td>\n",
       "      <td>0</td>\n",
       "      <td>68.55</td>\n",
       "      <td>3.62</td>\n",
       "      <td>223.18</td>\n",
       "      <td>6.57</td>\n",
       "      <td>10</td>\n",
       "      <td>2</td>\n",
       "      <td>973</td>\n",
       "    </tr>\n",
       "    <tr>\n",
       "      <th>140</th>\n",
       "      <td>1</td>\n",
       "      <td>2012-10-12</td>\n",
       "      <td>1573072.81</td>\n",
       "      <td>0</td>\n",
       "      <td>62.99</td>\n",
       "      <td>3.60</td>\n",
       "      <td>223.38</td>\n",
       "      <td>6.57</td>\n",
       "      <td>10</td>\n",
       "      <td>2</td>\n",
       "      <td>980</td>\n",
       "    </tr>\n",
       "    <tr>\n",
       "      <th>141</th>\n",
       "      <td>1</td>\n",
       "      <td>2012-10-19</td>\n",
       "      <td>1508068.77</td>\n",
       "      <td>0</td>\n",
       "      <td>67.97</td>\n",
       "      <td>3.59</td>\n",
       "      <td>223.43</td>\n",
       "      <td>6.57</td>\n",
       "      <td>10</td>\n",
       "      <td>2</td>\n",
       "      <td>987</td>\n",
       "    </tr>\n",
       "    <tr>\n",
       "      <th>142</th>\n",
       "      <td>1</td>\n",
       "      <td>2012-10-26</td>\n",
       "      <td>1493659.74</td>\n",
       "      <td>0</td>\n",
       "      <td>69.16</td>\n",
       "      <td>3.51</td>\n",
       "      <td>223.44</td>\n",
       "      <td>6.57</td>\n",
       "      <td>10</td>\n",
       "      <td>2</td>\n",
       "      <td>994</td>\n",
       "    </tr>\n",
       "  </tbody>\n",
       "</table>\n",
       "<p>143 rows × 11 columns</p>\n",
       "</div>"
      ],
      "text/plain": [
       "     Store       Date  Weekly_Sales  Holiday_Flag  Temperature  Fuel_Price  \\\n",
       "0        1 2010-02-05    1643690.90             0        42.31        2.57   \n",
       "1        1 2010-02-12    1641957.44             1        38.51        2.55   \n",
       "2        1 2010-02-19    1611968.17             0        39.93        2.51   \n",
       "3        1 2010-02-26    1409727.59             0        46.63        2.56   \n",
       "4        1 2010-03-05    1554806.68             0        46.50        2.62   \n",
       "..     ...        ...           ...           ...          ...         ...   \n",
       "138      1 2012-09-28    1437059.26             0        76.08        3.67   \n",
       "139      1 2012-10-05    1670785.97             0        68.55        3.62   \n",
       "140      1 2012-10-12    1573072.81             0        62.99        3.60   \n",
       "141      1 2012-10-19    1508068.77             0        67.97        3.59   \n",
       "142      1 2012-10-26    1493659.74             0        69.16        3.51   \n",
       "\n",
       "       CPI  Unemployment  Month  Semister  days  \n",
       "0   211.10          8.11      2         1     0  \n",
       "1   211.24          8.11      2         1     7  \n",
       "2   211.29          8.11      2         1    14  \n",
       "3   211.32          8.11      2         1    21  \n",
       "4   211.35          8.11      3         1    28  \n",
       "..     ...           ...    ...       ...   ...  \n",
       "138 222.98          6.91      9         2   966  \n",
       "139 223.18          6.57     10         2   973  \n",
       "140 223.38          6.57     10         2   980  \n",
       "141 223.43          6.57     10         2   987  \n",
       "142 223.44          6.57     10         2   994  \n",
       "\n",
       "[143 rows x 11 columns]"
      ]
     },
     "execution_count": 21,
     "metadata": {},
     "output_type": "execute_result"
    }
   ],
   "source": [
    "#task 6\n",
    "Store1_data=Walmart_data[Walmart_data['Store']==1]\n",
    "Store1_data"
   ]
  },
  {
   "cell_type": "code",
   "execution_count": 32,
   "id": "c76387db",
   "metadata": {
    "scrolled": true
   },
   "outputs": [
    {
     "name": "stdout",
     "output_type": "stream",
     "text": [
      "mean squared error value is 12648923163.497547\n",
      "[-16338.01058109  17387.75557626 123593.7378425 ]\n"
     ]
    }
   ],
   "source": [
    "#task 6\n",
    "#model building\n",
    "#linear Regression\n",
    "from sklearn.model_selection import train_test_split\n",
    "from sklearn.linear_model import LinearRegression\n",
    "from sklearn.metrics import mean_squared_error\n",
    "\n",
    "\n",
    "# selecting independent variables\n",
    "x=Store1_data[['Fuel_Price','CPI','Unemployment']]\n",
    "y=Store1_data['Weekly_Sales']\n",
    "\n",
    "# train-test split\n",
    "x_train, x_test, y_train, y_test = train_test_split(x, y, test_size=0.2, random_state=40)\n",
    "\n",
    "#intialize linear regression \n",
    "lr=LinearRegression()\n",
    "#train model\n",
    "lr.fit(x_train, y_train)\n",
    "#predict model\n",
    "y_predict=lr.predict(x_test)\n",
    "\n",
    "mse=mean_squared_error(y_test,y_predict)\n",
    "\n",
    "print(f\"mean squared error value is {mse}\")\n",
    "coefficients =lr.coef_\n",
    "print(coefficients)\n"
   ]
  },
  {
   "cell_type": "code",
   "execution_count": 30,
   "id": "2d93f6a7",
   "metadata": {},
   "outputs": [
    {
     "name": "stdout",
     "output_type": "stream",
     "text": [
      "mean squared error value is 12824951200.895136\n"
     ]
    }
   ],
   "source": [
    "from sklearn.model_selection import train_test_split\n",
    "from sklearn.linear_model import LinearRegression\n",
    "from sklearn.metrics import accuracy\n",
    "from sklearn.ensemble import GradientBoostingRegressor\n",
    "\n",
    "# selecting independent variables\n",
    "x=Store1_data[['Fuel_Price','CPI','Unemployment','days']]\n",
    "y=Store1_data['Weekly_Sales']\n",
    "\n",
    "# train-test split\n",
    "x_train, x_test, y_train, y_test = train_test_split(x, y, test_size=0.2, random_state=40)\n",
    "\n",
    "#intialize linear regression \n",
    "model = GradientBoostingRegressor()\n",
    "\n",
    "#train model\n",
    "model.fit(x_train, y_train)\n",
    "#predict model\n",
    "y_predict=model.predict(x_test)\n",
    "\n"
   ]
  },
  {
   "cell_type": "code",
   "execution_count": 31,
   "id": "81b35620",
   "metadata": {},
   "outputs": [
    {
     "name": "stdout",
     "output_type": "stream",
     "text": [
      "mean squared error value is 14088306981.78477\n"
     ]
    }
   ],
   "source": [
    "from sklearn.model_selection import train_test_split\n",
    "from sklearn.linear_model import LinearRegression\n",
    "from sklearn.metrics import mean_squared_error\n",
    "from sklearn.ensemble import RandomForestRegressor \n",
    "\n",
    "# selecting independent variables\n",
    "x=Store1_data[['Fuel_Price','CPI','Unemployment','days']]\n",
    "y=Store1_data['Weekly_Sales']\n",
    "\n",
    "# train-test split\n",
    "x_train, x_test, y_train, y_test = train_test_split(x, y, test_size=0.2, random_state=40)\n",
    "\n",
    "#intialize linear regression \n",
    "model = RandomForestRegressor ()\n",
    "\n",
    "#train model\n",
    "model.fit(x_train, y_train)\n",
    "#predict model\n",
    "y_predict=model.predict(x_test)\n",
    "\n",
    "mse=mean_squared_error(y_test,y_predict)\n",
    "\n",
    "print(f\"mean squared error value is {mse}\")\n"
   ]
  },
  {
   "cell_type": "code",
   "execution_count": null,
   "id": "1c18198a",
   "metadata": {},
   "outputs": [],
   "source": []
  }
 ],
 "metadata": {
  "kernelspec": {
   "display_name": "Python 3 (ipykernel)",
   "language": "python",
   "name": "python3"
  },
  "language_info": {
   "codemirror_mode": {
    "name": "ipython",
    "version": 3
   },
   "file_extension": ".py",
   "mimetype": "text/x-python",
   "name": "python",
   "nbconvert_exporter": "python",
   "pygments_lexer": "ipython3",
   "version": "3.9.18"
  }
 },
 "nbformat": 4,
 "nbformat_minor": 5
}
